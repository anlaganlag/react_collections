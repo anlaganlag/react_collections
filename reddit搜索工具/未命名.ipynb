{
 "cells": [
  {
   "cell_type": "code",
   "execution_count": 1,
   "metadata": {},
   "outputs": [],
   "source": [
    "url=\"https://www.google.com/search?q=site%3Areddit.com+China+could+save+%241.6+trillion+by+replacing+coal+with+clean+energy%2C+report+finds\""
   ]
  },
  {
   "cell_type": "code",
   "execution_count": 6,
   "metadata": {},
   "outputs": [],
   "source": [
    "searchTerm=\"site:reddit.com China could save $1.6 trillion by replacing coal with clean energy, report finds\""
   ]
  },
  {
   "cell_type": "code",
   "execution_count": 2,
   "metadata": {},
   "outputs": [
    {
     "data": {
      "text/plain": [
       "'https://www.google.com/search?q=site%3Areddit.com+China+could+save+%241.6+trillion+by+replacing+coal+with+clean+energy%2C+report+finds'"
      ]
     },
     "execution_count": 2,
     "metadata": {},
     "output_type": "execute_result"
    }
   ],
   "source": [
    "url"
   ]
  },
  {
   "cell_type": "code",
   "execution_count": 7,
   "metadata": {},
   "outputs": [
    {
     "data": {
      "text/plain": [
       "'site:reddit.com China could save $1.6 trillion by replacing coal with clean energy, report finds'"
      ]
     },
     "execution_count": 7,
     "metadata": {},
     "output_type": "execute_result"
    }
   ],
   "source": [
    "searchTerm"
   ]
  },
  {
   "cell_type": "code",
   "execution_count": 27,
   "metadata": {},
   "outputs": [],
   "source": [
    "title=\"China could save $1.6 trillion by replacing coal with clean energy, report finds\""
   ]
  },
  {
   "cell_type": "code",
   "execution_count": 29,
   "metadata": {},
   "outputs": [
    {
     "name": "stdout",
     "output_type": "stream",
     "text": [
      "https://www.google.com/search?q=site%3Areddit.com+China+could+save+$1.6+trillion+by+replacing+coal+with+clean+energy,+report+finds\n"
     ]
    }
   ],
   "source": [
    "prefix=\"https://www.google.com/search?q=site%3Areddit.com+\"\n",
    "print(prefix+\"+\".join(title.split()))"
   ]
  },
  {
   "cell_type": "code",
   "execution_count": 22,
   "metadata": {},
   "outputs": [
    {
     "data": {
      "text/plain": [
       "'https://www.google.com/search?q=site%3Areddit.com+China+could+save+%241.6+trillion+by+replacing+coal+with+clean+energy%2C+report+finds'"
      ]
     },
     "execution_count": 22,
     "metadata": {},
     "output_type": "execute_result"
    }
   ],
   "source": [
    "target=\"https://www.google.com/search?q=site%3Areddit.com+China+could+save+%241.6+trillion+by+replacing+coal+with+clean+energy%2C+report+finds\"\n",
    "target"
   ]
  }
 ],
 "metadata": {
  "kernelspec": {
   "display_name": "Python 3",
   "language": "python",
   "name": "python3"
  },
  "language_info": {
   "codemirror_mode": {
    "name": "ipython",
    "version": 3
   },
   "file_extension": ".py",
   "mimetype": "text/x-python",
   "name": "python",
   "nbconvert_exporter": "python",
   "pygments_lexer": "ipython3",
   "version": "3.8.3"
  }
 },
 "nbformat": 4,
 "nbformat_minor": 4
}
